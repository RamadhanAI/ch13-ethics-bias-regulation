{
 "cells": [
  {
   "cell_type": "code",
   "execution_count": null,
   "metadata": {},
   "outputs": [],
   "source": [
    "import pandas as pd\n",
    "from fairlearn.metrics import MetricFrame, selection_rate\n",
    "from sklearn.model_selection import train_test_split\n",
    "from sklearn.linear_model import LogisticRegression\n",
    "\n",
    "# Load example biased dataset\n",
    "data = pd.read_csv(\"../data/biased_sample_dataset.csv\")\n",
    "\n",
    "X = data.drop(columns=['target', 'sensitive_feature'])\n",
    "y = data['target']\n",
    "sensitive = data['sensitive_feature']\n",
    "\n",
    "X_train, X_test, y_train, y_test, sensitive_train, sensitive_test = train_test_split(\n",
    "    X, y, sensitive, test_size=0.3, random_state=42\n",
    ")\n",
    "\n",
    "model = LogisticRegression()\n",
    "model.fit(X_train, y_train)\n",
    "preds = model.predict(X_test)\n",
    "\n",
    "metric_frame = MetricFrame(metrics=selection_rate,\n",
    "                           y_true=y_test,\n",
    "                           y_pred=preds,\n",
    "                           sensitive_features=sensitive_test)\n",
    "\n",
    "print(\"Selection rates by group:\")\n",
    "print(metric_frame.by_group)\n"
   ]
  }
 ],
 "metadata": {
  "kernelspec": {
   "display_name": "Python 3",
   "language": "python",
   "name": "python3"
  },
  "language_info": {
   "codemirror_mode": {
    "name": "ipython",
    "version": 3
   },
   "file_extension": ".py",
   "mimetype": "text/x-python",
   "name": "python",
   "pygments_lexer": "ipython3",
   "version": "3.8.5"
  }
 },
 "nbformat": 4,
 "nbformat_minor": 4
}
